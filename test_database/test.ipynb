{
 "cells": [
  {
   "cell_type": "code",
   "execution_count": 1,
   "metadata": {},
   "outputs": [],
   "source": [
    "from flask_sqlalchemy import SQLAlchemy\n",
    "# db = SQLAlchemy()\n",
    "SQLALCHEMY_TRACK_MODIFICATIONS = False\n",
    "SQLALCHEMY_RECORD_QUERIES = True\n",
    "import os\n",
    "# basedir = os.path.abspath(os.path.dirname(os.path.dirname(__file__)))\n",
    "basedir=\"\""
   ]
  },
  {
   "cell_type": "code",
   "execution_count": 2,
   "metadata": {},
   "outputs": [
    {
     "name": "stderr",
     "output_type": "stream",
     "text": [
      "c:\\Users\\Python\\CODE\\torch\\courses\\Database\\env\\lib\\site-packages\\flask_sqlalchemy\\__init__.py:872: FSADeprecationWarning: SQLALCHEMY_TRACK_MODIFICATIONS adds significant overhead and will be disabled by default in the future.  Set it to True or False to suppress this warning.\n",
      "  warnings.warn(FSADeprecationWarning(\n"
     ]
    }
   ],
   "source": [
    "from flask import Flask\n",
    "app=Flask(__name__)\n",
    "app.config[\"SQLALCHEMY_DATABASE_URI\"]=os.getenv('DATABASE_URL', 'sqlite:///' + os.path.join(app.root_path,'data.db'))\n",
    "db=SQLAlchemy(app)"
   ]
  },
  {
   "cell_type": "code",
   "execution_count": 3,
   "metadata": {},
   "outputs": [
    {
     "data": {
      "text/plain": [
       "<SQLAlchemy engine=sqlite:///c:\\Users\\Python\\CODE\\torch\\courses\\Database\\test_database\\data.db>"
      ]
     },
     "execution_count": 3,
     "metadata": {},
     "output_type": "execute_result"
    }
   ],
   "source": [
    "db"
   ]
  },
  {
   "cell_type": "code",
   "execution_count": 4,
   "metadata": {},
   "outputs": [],
   "source": [
    "class Company(db.Model):\n",
    "    CID = db.Column(db.Integer, primary_key=True,\n",
    "                    nullable=False, autoincrement=True)\n",
    "    CName = db.Column(db.String(1024), nullable=False)\n",
    "    Corporate = db.Column(db.String(1024))\n",
    "    Cphone = db.Column(db.String(11), unique=True, nullable=False)\n",
    "    CInofrmation = db.Column(db.Text)\n",
    "    PID = db.relationship('Project')\n",
    "    CMID = db.relationship('CompanyManager')\n",
    "\n",
    "\n",
    "class Project(db.Model):\n",
    "    PID = db.Column(db.Integer, primary_key=True,\n",
    "                    nullable=False, autoincrement=True)\n",
    "    PName = db.Column(db.String(1024), nullable=False)\n",
    "    PAddress = db.Column(db.Text, nullable=False)\n",
    "    JID = db.relationship('Jobs')\n",
    "    CID = db.Column(db.Integer, db.ForeignKey('company.CID'))\n",
    "    PMID = db.relationship('ProjectManager')\n",
    "\n",
    "\n",
    "class ProjectManager(db.Model):\n",
    "    PMID = db.Column(db.Integer, primary_key=True,\n",
    "                     nullable=False, autoincrement=True)\n",
    "    authority = db.relationship('Authority', back_populates='project_manager', uselist=False)\n",
    "    BID = db.Column(db.Integer, db.ForeignKey('basic_info.BID'))\n",
    "    PID = db.Column(db.Integer, db.ForeignKey('project.PID'))\n",
    "    basic_info=db.relationship('BasicInfo',back_populates='project_manager')\n",
    "\n",
    "\n",
    "class CompanyManager(db.Model):\n",
    "    CMID = db.Column(db.Integer, primary_key=True,\n",
    "                     nullable=False, autoincrement=True)\n",
    "    CID = db.Column(db.Integer, db.ForeignKey('company.CID'))\n",
    "    authority = db.relationship('Authority', back_populates='company_manager', uselist=False)\n",
    "    BID = db.Column(db.Integer, db.ForeignKey('basic_info.BID'))\n",
    "    basic_info=db.relationship('BasicInfo',back_populates='company_manager')\n",
    "\n",
    "\n",
    "class BasicInfo(db.Model):\n",
    "    BID = db.Column(db.Integer, primary_key=True,\n",
    "                    nullable=False, autoincrement=True)\n",
    "    BName = db.Column(db.String(1024), nullable=False)\n",
    "    BPortrait = db.Column(db.LargeBinary(length=4096))\n",
    "    Bphone = db.Column(db.String(11), unique=True, nullable=False)\n",
    "    IDCard = db.Column(db.String(18), nullable=False)\n",
    "    UserType = db.Column(db.Integer, nullable=False)\n",
    "    Password = db.Column(db.String(18), nullable=False)\n",
    "    Bemail=db.Column(db.String(1024), nullable=False)\n",
    "    BAddress=db.Column(db.Text)\n",
    "\n",
    "    project_manager = db.relationship('ProjectManager', back_populates='basic_info', uselist=False)\n",
    "    company_manager = db.relationship('CompanyManager', back_populates='basic_info', uselist=False)\n",
    "    candidate = db.relationship('Candidate', back_populates='basic_info', uselist=False)\n",
    "\n",
    "\n",
    "class Candidate(db.Model):\n",
    "    CAID = db.Column(db.Integer, primary_key=True,\n",
    "                     nullable=False, autoincrement=True)\n",
    "    Ccategory = db.Column(db.String(1024), nullable=False)\n",
    "    health = db.Column(db.LargeBinary(length=4096))\n",
    "    Cexperience = db.Column(db.Integer)\n",
    "    detailExperience = db.Column(db.Text)\n",
    "    status = db.Column(db.Boolean, nullable=False)\n",
    "    certification = db.Column(db.LargeBinary(length=4096))\n",
    "    moreInfo = db.Column(db.Text)\n",
    "    BID = db.Column(db.Integer, db.ForeignKey('basic_info.BID'))\n",
    "    basic_info=db.relationship('BasicInfo',back_populates='candidate')\n",
    "\n",
    "class Jobs(db.Model):\n",
    "    JID = db.Column(db.Integer, primary_key=True,\n",
    "                    nullable=False, autoincrement=True)\n",
    "    Jname = db.Column(db.String(1024), nullable=False)\n",
    "    salary = db.Column(db.Float(precision=\"10,2\"))\n",
    "    Jcategory = db.Column(db.String(1024))\n",
    "    Jinformation = db.Column(db.Text, nullable=False)\n",
    "    Jexperience = db.Column(db.Integer)\n",
    "    PID = db.Column(db.Integer, db.ForeignKey('project.PID'))\n",
    "\n",
    "\n",
    "class Authority(db.Model):\n",
    "    AID = db.Column(db.Integer, primary_key=True,\n",
    "                    nullable=False, autoincrement=True)\n",
    "    editfile = db.Column(db.Boolean, nullable=False)\n",
    "    checkbasicinfo = db.Column(db.Boolean, nullable=False)\n",
    "    sendoffer = db.Column(db.Boolean, nullable=False)\n",
    "    editoffer = db.Column(db.Boolean, nullable=False)\n",
    "    PMID = db.Column(db.Integer, db.ForeignKey('project_manager.PMID'))\n",
    "    project_manager=db.relationship('ProjectManager',back_populates='authority')\n",
    "    CMID = db.Column(db.Integer, db.ForeignKey('company_manager.CMID'))\n",
    "    company_manager=db.relationship('CompanyManager',back_populates='authority')\n"
   ]
  },
  {
   "cell_type": "code",
   "execution_count": 5,
   "metadata": {},
   "outputs": [],
   "source": [
    "db.create_all()"
   ]
  },
  {
   "cell_type": "code",
   "execution_count": 6,
   "metadata": {},
   "outputs": [],
   "source": [
    "a=BasicInfo(BName=\"a\",Bphone=\"18335320958\",IDCard=\"140302200108031228\",UserType=1,Password=\"12\",Bemail=\"\")"
   ]
  },
  {
   "cell_type": "code",
   "execution_count": null,
   "metadata": {},
   "outputs": [],
   "source": []
  }
 ],
 "metadata": {
  "interpreter": {
   "hash": "08af87c0a970761b3332705c56141bd055f0b04fab5099a34a3ab7d66b9a8ed8"
  },
  "kernelspec": {
   "display_name": "Python 3.8.3 ('env': venv)",
   "language": "python",
   "name": "python3"
  },
  "language_info": {
   "codemirror_mode": {
    "name": "ipython",
    "version": 3
   },
   "file_extension": ".py",
   "mimetype": "text/x-python",
   "name": "python",
   "nbconvert_exporter": "python",
   "pygments_lexer": "ipython3",
   "version": "3.8.3"
  },
  "orig_nbformat": 4
 },
 "nbformat": 4,
 "nbformat_minor": 2
}
