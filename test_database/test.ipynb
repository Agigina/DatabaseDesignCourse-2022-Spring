{
 "cells": [
  {
   "cell_type": "code",
   "execution_count": 1,
   "metadata": {},
   "outputs": [],
   "source": [
    "from flask_sqlalchemy import SQLAlchemy\n",
    "# db = SQLAlchemy()\n",
    "SQLALCHEMY_TRACK_MODIFICATIONS = False\n",
    "SQLALCHEMY_RECORD_QUERIES = True\n",
    "import os\n",
    "# basedir = os.path.abspath(os.path.dirname(os.path.dirname(__file__)))\n",
    "basedir=\"\""
   ]
  },
  {
   "cell_type": "code",
   "execution_count": 2,
   "metadata": {},
   "outputs": [
    {
     "name": "stderr",
     "output_type": "stream",
     "text": [
      "c:\\Users\\Python\\CODE\\torch\\courses\\Database\\env\\lib\\site-packages\\flask_sqlalchemy\\__init__.py:872: FSADeprecationWarning: SQLALCHEMY_TRACK_MODIFICATIONS adds significant overhead and will be disabled by default in the future.  Set it to True or False to suppress this warning.\n",
      "  warnings.warn(FSADeprecationWarning(\n"
     ]
    }
   ],
   "source": [
    "from flask import Flask\n",
    "app=Flask(__name__)\n",
    "app.config[\"SQLALCHEMY_DATABASE_URI\"]=os.getenv('DATABASE_URL', 'sqlite:///' + os.path.join(app.root_path,'data.db'))\n",
    "db=SQLAlchemy(app)"
   ]
  },
  {
   "cell_type": "code",
   "execution_count": 3,
   "metadata": {},
   "outputs": [
    {
     "data": {
      "text/plain": [
       "<SQLAlchemy engine=sqlite:///c:\\Users\\Python\\CODE\\torch\\courses\\Database\\test_database\\data.db>"
      ]
     },
     "execution_count": 3,
     "metadata": {},
     "output_type": "execute_result"
    }
   ],
   "source": [
    "db"
   ]
  },
  {
   "cell_type": "code",
   "execution_count": 4,
   "metadata": {},
   "outputs": [],
   "source": [
    "class Company(db.Model):\n",
    "    CID = db.Column(db.Integer, primary_key=True,\n",
    "                    nullable=False, autoincrement=True)\n",
    "    CName = db.Column(db.String(1024), nullable=False)\n",
    "    Corporate = db.Column(db.String(1024))\n",
    "    Cphone = db.Column(db.String(11), unique=True, nullable=False)\n",
    "    CInofrmation = db.Column(db.Text)\n",
    "    PID = db.relationship('Project')\n",
    "    CMID = db.relationship('CompanyManager')\n",
    "\n",
    "\n",
    "class Project(db.Model):\n",
    "    PID = db.Column(db.Integer, primary_key=True,\n",
    "                    nullable=False, autoincrement=True)\n",
    "    PName = db.Column(db.String(1024), nullable=False)\n",
    "    PAddress = db.Column(db.Text, nullable=False)\n",
    "    JID = db.relationship('Jobs')\n",
    "    CID = db.Column(db.Integer, db.ForeignKey('company.CID'))\n",
    "    PMID = db.relationship('ProjectManager')\n",
    "\n",
    "\n",
    "class ProjectManager(db.Model):\n",
    "    PMID = db.Column(db.Integer, primary_key=True,\n",
    "                     nullable=False, autoincrement=True)\n",
    "    authority = db.relationship('Authority', back_populates='project_manager', uselist=False)\n",
    "    BID = db.Column(db.Integer, db.ForeignKey('basic_info.BID'))\n",
    "    PID = db.Column(db.Integer, db.ForeignKey('project.PID'))\n",
    "    basic_info=db.relationship('BasicInfo',back_populates='project_manager')\n",
    "\n",
    "\n",
    "class CompanyManager(db.Model):\n",
    "    CMID = db.Column(db.Integer, primary_key=True,\n",
    "                     nullable=False, autoincrement=True)\n",
    "    CID = db.Column(db.Integer, db.ForeignKey('company.CID'))\n",
    "    authority = db.relationship('Authority', back_populates='company_manager', uselist=False)\n",
    "    BID = db.Column(db.Integer, db.ForeignKey('basic_info.BID'))\n",
    "    basic_info=db.relationship('BasicInfo',back_populates='company_manager')\n",
    "\n",
    "\n",
    "class BasicInfo(db.Model):\n",
    "    BID = db.Column(db.Integer, primary_key=True,\n",
    "                    nullable=False, autoincrement=True)\n",
    "    BName = db.Column(db.String(1024), nullable=False)\n",
    "    BPortrait = db.Column(db.LargeBinary(length=4096))\n",
    "    Bphone = db.Column(db.String(11), unique=True, nullable=False)\n",
    "    IDCard = db.Column(db.String(18), nullable=False)\n",
    "    UserType = db.Column(db.Integer, nullable=False)\n",
    "    Password = db.Column(db.String(18), nullable=False)\n",
    "    Bemail=db.Column(db.String(1024), nullable=False)\n",
    "    BAddress=db.Column(db.Text)\n",
    "\n",
    "    project_manager = db.relationship('ProjectManager', back_populates='basic_info', uselist=False)\n",
    "    company_manager = db.relationship('CompanyManager', back_populates='basic_info', uselist=False)\n",
    "    candidate = db.relationship('Candidate', back_populates='basic_info', uselist=False)\n",
    "\n",
    "\n",
    "class Candidate(db.Model):\n",
    "    CAID = db.Column(db.Integer, primary_key=True,\n",
    "                     nullable=False, autoincrement=True)\n",
    "    Ccategory = db.Column(db.String(1024), nullable=False)\n",
    "    health = db.Column(db.LargeBinary(length=4096))\n",
    "    Cexperience = db.Column(db.Integer)\n",
    "    detailExperience = db.Column(db.Text)\n",
    "    status = db.Column(db.Boolean, nullable=False)\n",
    "    certification = db.Column(db.LargeBinary(length=4096))\n",
    "    moreInfo = db.Column(db.Text)\n",
    "    BID = db.Column(db.Integer, db.ForeignKey('basic_info.BID'))\n",
    "    basic_info=db.relationship('BasicInfo',back_populates='candidate')\n",
    "\n",
    "class Jobs(db.Model):\n",
    "    JID = db.Column(db.Integer, primary_key=True,\n",
    "                    nullable=False, autoincrement=True)\n",
    "    Jname = db.Column(db.String(1024), nullable=False)\n",
    "    salary = db.Column(db.Float(precision=\"10,2\"))\n",
    "    Jcategory = db.Column(db.String(1024))\n",
    "    Jinformation = db.Column(db.Text, nullable=False)\n",
    "    Jexperience = db.Column(db.Integer)\n",
    "    PID = db.Column(db.Integer, db.ForeignKey('project.PID'))\n",
    "\n",
    "\n",
    "class Authority(db.Model):\n",
    "    AID = db.Column(db.Integer, primary_key=True,\n",
    "                    nullable=False, autoincrement=True)\n",
    "    editfile = db.Column(db.Boolean, nullable=False)\n",
    "    checkbasicinfo = db.Column(db.Boolean, nullable=False)\n",
    "    sendoffer = db.Column(db.Boolean, nullable=False)\n",
    "    editoffer = db.Column(db.Boolean, nullable=False)\n",
    "    PMID = db.Column(db.Integer, db.ForeignKey('project_manager.PMID'))\n",
    "    project_manager=db.relationship('ProjectManager',back_populates='authority')\n",
    "    CMID = db.Column(db.Integer, db.ForeignKey('company_manager.CMID'))\n",
    "    company_manager=db.relationship('CompanyManager',back_populates='authority')\n"
   ]
  },
  {
   "cell_type": "code",
   "execution_count": 5,
   "metadata": {},
   "outputs": [],
   "source": [
    "db.create_all()"
   ]
  },
  {
   "cell_type": "code",
   "execution_count": 6,
   "metadata": {},
   "outputs": [],
   "source": [
    "a=BasicInfo(BName=\"a\",Bphone=\"18335320958\",IDCard=\"140302200108031228\",UserType=1,Password=\"12\",Bemail=\"\")"
   ]
  },
  {
   "cell_type": "code",
   "execution_count": 1,
   "metadata": {},
   "outputs": [],
   "source": [
    "import time"
   ]
  },
  {
   "cell_type": "code",
   "execution_count": 2,
   "metadata": {},
   "outputs": [
    {
     "data": {
      "text/plain": [
       "1646621569.0416327"
      ]
     },
     "execution_count": 2,
     "metadata": {},
     "output_type": "execute_result"
    }
   ],
   "source": [
    "time.time()"
   ]
  },
  {
   "cell_type": "code",
   "execution_count": 4,
   "metadata": {},
   "outputs": [
    {
     "data": {
      "text/plain": [
       "'2022-03-07 10:53:30'"
      ]
     },
     "execution_count": 4,
     "metadata": {},
     "output_type": "execute_result"
    }
   ],
   "source": [
    "time.strftime('%Y-%m-%d %H:%M:%S',time.localtime(time.time()))"
   ]
  },
  {
   "cell_type": "code",
   "execution_count": 8,
   "metadata": {},
   "outputs": [
    {
     "data": {
      "text/plain": [
       "time.struct_time(tm_year=2022, tm_mon=3, tm_mday=7, tm_hour=10, tm_min=54, tm_sec=29, tm_wday=0, tm_yday=66, tm_isdst=0)"
      ]
     },
     "execution_count": 8,
     "metadata": {},
     "output_type": "execute_result"
    }
   ],
   "source": [
    "time.localtime(time.time())"
   ]
  },
  {
   "cell_type": "code",
   "execution_count": 4,
   "metadata": {},
   "outputs": [
    {
     "name": "stdout",
     "output_type": "stream",
     "text": [
      "2022-03-07\n"
     ]
    }
   ],
   "source": [
    "import datetime\n",
    "print(datetime.date.today())"
   ]
  },
  {
   "cell_type": "code",
   "execution_count": 18,
   "metadata": {},
   "outputs": [
    {
     "ename": "error",
     "evalue": "redefinition of group name 'd' as group 9; was group 3 at position 255",
     "output_type": "error",
     "traceback": [
      "\u001b[1;31m---------------------------------------------------------------------------\u001b[0m",
      "\u001b[1;31merror\u001b[0m                                     Traceback (most recent call last)",
      "\u001b[1;32mc:\\Users\\Python\\CODE\\torch\\courses\\Database\\test_database\\test.ipynb Cell 12'\u001b[0m in \u001b[0;36m<cell line: 1>\u001b[1;34m()\u001b[0m\n\u001b[1;32m----> <a href='vscode-notebook-cell:/c%3A/Users/Python/CODE/torch/courses/Database/test_database/test.ipynb#ch0000013?line=0'>1</a>\u001b[0m datetime\u001b[39m.\u001b[39;49mdatetime\u001b[39m.\u001b[39;49mstrptime(\u001b[39m\"\u001b[39;49m\u001b[39m2020-1-3 00:01:01 1\u001b[39;49m\u001b[39m\"\u001b[39;49m, \u001b[39m'\u001b[39;49m\u001b[39m%\u001b[39;49m\u001b[39mY-\u001b[39;49m\u001b[39m%\u001b[39;49m\u001b[39mm-\u001b[39;49m\u001b[39m%d\u001b[39;49;00m\u001b[39m \u001b[39;49m\u001b[39m%\u001b[39;49m\u001b[39mH:\u001b[39;49m\u001b[39m%\u001b[39;49m\u001b[39mM:\u001b[39;49m\u001b[39m%\u001b[39;49m\u001b[39mS \u001b[39;49m\u001b[39m%c\u001b[39;49;00m\u001b[39m'\u001b[39;49m)\n",
      "File \u001b[1;32mC:\\ProgramData\\Anaconda3\\lib\\_strptime.py:568\u001b[0m, in \u001b[0;36m_strptime_datetime\u001b[1;34m(cls, data_string, format)\u001b[0m\n\u001b[0;32m    <a href='file:///c%3A/ProgramData/Anaconda3/lib/_strptime.py?line=564'>565</a>\u001b[0m \u001b[39mdef\u001b[39;00m \u001b[39m_strptime_datetime\u001b[39m(\u001b[39mcls\u001b[39m, data_string, \u001b[39mformat\u001b[39m\u001b[39m=\u001b[39m\u001b[39m\"\u001b[39m\u001b[39m%a\u001b[39;00m\u001b[39m \u001b[39m\u001b[39m%\u001b[39m\u001b[39mb \u001b[39m\u001b[39m%d\u001b[39;00m\u001b[39m \u001b[39m\u001b[39m%\u001b[39m\u001b[39mH:\u001b[39m\u001b[39m%\u001b[39m\u001b[39mM:\u001b[39m\u001b[39m%\u001b[39m\u001b[39mS \u001b[39m\u001b[39m%\u001b[39m\u001b[39mY\u001b[39m\u001b[39m\"\u001b[39m):\n\u001b[0;32m    <a href='file:///c%3A/ProgramData/Anaconda3/lib/_strptime.py?line=565'>566</a>\u001b[0m     \u001b[39m\"\"\"Return a class cls instance based on the input string and the\u001b[39;00m\n\u001b[0;32m    <a href='file:///c%3A/ProgramData/Anaconda3/lib/_strptime.py?line=566'>567</a>\u001b[0m \u001b[39m    format string.\"\"\"\u001b[39;00m\n\u001b[1;32m--> <a href='file:///c%3A/ProgramData/Anaconda3/lib/_strptime.py?line=567'>568</a>\u001b[0m     tt, fraction, gmtoff_fraction \u001b[39m=\u001b[39m _strptime(data_string, \u001b[39mformat\u001b[39;49m)\n\u001b[0;32m    <a href='file:///c%3A/ProgramData/Anaconda3/lib/_strptime.py?line=568'>569</a>\u001b[0m     tzname, gmtoff \u001b[39m=\u001b[39m tt[\u001b[39m-\u001b[39m\u001b[39m2\u001b[39m:]\n\u001b[0;32m    <a href='file:///c%3A/ProgramData/Anaconda3/lib/_strptime.py?line=569'>570</a>\u001b[0m     args \u001b[39m=\u001b[39m tt[:\u001b[39m6\u001b[39m] \u001b[39m+\u001b[39m (fraction,)\n",
      "File \u001b[1;32mC:\\ProgramData\\Anaconda3\\lib\\_strptime.py:333\u001b[0m, in \u001b[0;36m_strptime\u001b[1;34m(data_string, format)\u001b[0m\n\u001b[0;32m    <a href='file:///c%3A/ProgramData/Anaconda3/lib/_strptime.py?line=330'>331</a>\u001b[0m \u001b[39mif\u001b[39;00m \u001b[39mnot\u001b[39;00m format_regex:\n\u001b[0;32m    <a href='file:///c%3A/ProgramData/Anaconda3/lib/_strptime.py?line=331'>332</a>\u001b[0m     \u001b[39mtry\u001b[39;00m:\n\u001b[1;32m--> <a href='file:///c%3A/ProgramData/Anaconda3/lib/_strptime.py?line=332'>333</a>\u001b[0m         format_regex \u001b[39m=\u001b[39m _TimeRE_cache\u001b[39m.\u001b[39;49mcompile(\u001b[39mformat\u001b[39;49m)\n\u001b[0;32m    <a href='file:///c%3A/ProgramData/Anaconda3/lib/_strptime.py?line=333'>334</a>\u001b[0m     \u001b[39m# KeyError raised when a bad format is found; can be specified as\u001b[39;00m\n\u001b[0;32m    <a href='file:///c%3A/ProgramData/Anaconda3/lib/_strptime.py?line=334'>335</a>\u001b[0m     \u001b[39m# \\\\, in which case it was a stray % but with a space after it\u001b[39;00m\n\u001b[0;32m    <a href='file:///c%3A/ProgramData/Anaconda3/lib/_strptime.py?line=335'>336</a>\u001b[0m     \u001b[39mexcept\u001b[39;00m \u001b[39mKeyError\u001b[39;00m \u001b[39mas\u001b[39;00m err:\n",
      "File \u001b[1;32mC:\\ProgramData\\Anaconda3\\lib\\_strptime.py:263\u001b[0m, in \u001b[0;36mTimeRE.compile\u001b[1;34m(self, format)\u001b[0m\n\u001b[0;32m    <a href='file:///c%3A/ProgramData/Anaconda3/lib/_strptime.py?line=260'>261</a>\u001b[0m \u001b[39mdef\u001b[39;00m \u001b[39mcompile\u001b[39m(\u001b[39mself\u001b[39m, \u001b[39mformat\u001b[39m):\n\u001b[0;32m    <a href='file:///c%3A/ProgramData/Anaconda3/lib/_strptime.py?line=261'>262</a>\u001b[0m     \u001b[39m\"\"\"Return a compiled re object for the format string.\"\"\"\u001b[39;00m\n\u001b[1;32m--> <a href='file:///c%3A/ProgramData/Anaconda3/lib/_strptime.py?line=262'>263</a>\u001b[0m     \u001b[39mreturn\u001b[39;00m re_compile(\u001b[39mself\u001b[39;49m\u001b[39m.\u001b[39;49mpattern(\u001b[39mformat\u001b[39;49m), IGNORECASE)\n",
      "File \u001b[1;32mC:\\ProgramData\\Anaconda3\\lib\\re.py:252\u001b[0m, in \u001b[0;36mcompile\u001b[1;34m(pattern, flags)\u001b[0m\n\u001b[0;32m    <a href='file:///c%3A/ProgramData/Anaconda3/lib/re.py?line=249'>250</a>\u001b[0m \u001b[39mdef\u001b[39;00m \u001b[39mcompile\u001b[39m(pattern, flags\u001b[39m=\u001b[39m\u001b[39m0\u001b[39m):\n\u001b[0;32m    <a href='file:///c%3A/ProgramData/Anaconda3/lib/re.py?line=250'>251</a>\u001b[0m     \u001b[39m\"\u001b[39m\u001b[39mCompile a regular expression pattern, returning a Pattern object.\u001b[39m\u001b[39m\"\u001b[39m\n\u001b[1;32m--> <a href='file:///c%3A/ProgramData/Anaconda3/lib/re.py?line=251'>252</a>\u001b[0m     \u001b[39mreturn\u001b[39;00m _compile(pattern, flags)\n",
      "File \u001b[1;32mC:\\ProgramData\\Anaconda3\\lib\\re.py:304\u001b[0m, in \u001b[0;36m_compile\u001b[1;34m(pattern, flags)\u001b[0m\n\u001b[0;32m    <a href='file:///c%3A/ProgramData/Anaconda3/lib/re.py?line=301'>302</a>\u001b[0m \u001b[39mif\u001b[39;00m \u001b[39mnot\u001b[39;00m sre_compile\u001b[39m.\u001b[39misstring(pattern):\n\u001b[0;32m    <a href='file:///c%3A/ProgramData/Anaconda3/lib/re.py?line=302'>303</a>\u001b[0m     \u001b[39mraise\u001b[39;00m \u001b[39mTypeError\u001b[39;00m(\u001b[39m\"\u001b[39m\u001b[39mfirst argument must be string or compiled pattern\u001b[39m\u001b[39m\"\u001b[39m)\n\u001b[1;32m--> <a href='file:///c%3A/ProgramData/Anaconda3/lib/re.py?line=303'>304</a>\u001b[0m p \u001b[39m=\u001b[39m sre_compile\u001b[39m.\u001b[39;49mcompile(pattern, flags)\n\u001b[0;32m    <a href='file:///c%3A/ProgramData/Anaconda3/lib/re.py?line=304'>305</a>\u001b[0m \u001b[39mif\u001b[39;00m \u001b[39mnot\u001b[39;00m (flags \u001b[39m&\u001b[39m DEBUG):\n\u001b[0;32m    <a href='file:///c%3A/ProgramData/Anaconda3/lib/re.py?line=305'>306</a>\u001b[0m     \u001b[39mif\u001b[39;00m \u001b[39mlen\u001b[39m(_cache) \u001b[39m>\u001b[39m\u001b[39m=\u001b[39m _MAXCACHE:\n\u001b[0;32m    <a href='file:///c%3A/ProgramData/Anaconda3/lib/re.py?line=306'>307</a>\u001b[0m         \u001b[39m# Drop the oldest item\u001b[39;00m\n",
      "File \u001b[1;32mC:\\ProgramData\\Anaconda3\\lib\\sre_compile.py:764\u001b[0m, in \u001b[0;36mcompile\u001b[1;34m(p, flags)\u001b[0m\n\u001b[0;32m    <a href='file:///c%3A/ProgramData/Anaconda3/lib/sre_compile.py?line=761'>762</a>\u001b[0m \u001b[39mif\u001b[39;00m isstring(p):\n\u001b[0;32m    <a href='file:///c%3A/ProgramData/Anaconda3/lib/sre_compile.py?line=762'>763</a>\u001b[0m     pattern \u001b[39m=\u001b[39m p\n\u001b[1;32m--> <a href='file:///c%3A/ProgramData/Anaconda3/lib/sre_compile.py?line=763'>764</a>\u001b[0m     p \u001b[39m=\u001b[39m sre_parse\u001b[39m.\u001b[39;49mparse(p, flags)\n\u001b[0;32m    <a href='file:///c%3A/ProgramData/Anaconda3/lib/sre_compile.py?line=764'>765</a>\u001b[0m \u001b[39melse\u001b[39;00m:\n\u001b[0;32m    <a href='file:///c%3A/ProgramData/Anaconda3/lib/sre_compile.py?line=765'>766</a>\u001b[0m     pattern \u001b[39m=\u001b[39m \u001b[39mNone\u001b[39;00m\n",
      "File \u001b[1;32mC:\\ProgramData\\Anaconda3\\lib\\sre_parse.py:948\u001b[0m, in \u001b[0;36mparse\u001b[1;34m(str, flags, state)\u001b[0m\n\u001b[0;32m    <a href='file:///c%3A/ProgramData/Anaconda3/lib/sre_parse.py?line=944'>945</a>\u001b[0m state\u001b[39m.\u001b[39mstr \u001b[39m=\u001b[39m \u001b[39mstr\u001b[39m\n\u001b[0;32m    <a href='file:///c%3A/ProgramData/Anaconda3/lib/sre_parse.py?line=946'>947</a>\u001b[0m \u001b[39mtry\u001b[39;00m:\n\u001b[1;32m--> <a href='file:///c%3A/ProgramData/Anaconda3/lib/sre_parse.py?line=947'>948</a>\u001b[0m     p \u001b[39m=\u001b[39m _parse_sub(source, state, flags \u001b[39m&\u001b[39;49m SRE_FLAG_VERBOSE, \u001b[39m0\u001b[39;49m)\n\u001b[0;32m    <a href='file:///c%3A/ProgramData/Anaconda3/lib/sre_parse.py?line=948'>949</a>\u001b[0m \u001b[39mexcept\u001b[39;00m Verbose:\n\u001b[0;32m    <a href='file:///c%3A/ProgramData/Anaconda3/lib/sre_parse.py?line=949'>950</a>\u001b[0m     \u001b[39m# the VERBOSE flag was switched on inside the pattern.  to be\u001b[39;00m\n\u001b[0;32m    <a href='file:///c%3A/ProgramData/Anaconda3/lib/sre_parse.py?line=950'>951</a>\u001b[0m     \u001b[39m# on the safe side, we'll parse the whole thing again...\u001b[39;00m\n\u001b[0;32m    <a href='file:///c%3A/ProgramData/Anaconda3/lib/sre_parse.py?line=951'>952</a>\u001b[0m     state \u001b[39m=\u001b[39m State()\n",
      "File \u001b[1;32mC:\\ProgramData\\Anaconda3\\lib\\sre_parse.py:443\u001b[0m, in \u001b[0;36m_parse_sub\u001b[1;34m(source, state, verbose, nested)\u001b[0m\n\u001b[0;32m    <a href='file:///c%3A/ProgramData/Anaconda3/lib/sre_parse.py?line=440'>441</a>\u001b[0m start \u001b[39m=\u001b[39m source\u001b[39m.\u001b[39mtell()\n\u001b[0;32m    <a href='file:///c%3A/ProgramData/Anaconda3/lib/sre_parse.py?line=441'>442</a>\u001b[0m \u001b[39mwhile\u001b[39;00m \u001b[39mTrue\u001b[39;00m:\n\u001b[1;32m--> <a href='file:///c%3A/ProgramData/Anaconda3/lib/sre_parse.py?line=442'>443</a>\u001b[0m     itemsappend(_parse(source, state, verbose, nested \u001b[39m+\u001b[39;49m \u001b[39m1\u001b[39;49m,\n\u001b[0;32m    <a href='file:///c%3A/ProgramData/Anaconda3/lib/sre_parse.py?line=443'>444</a>\u001b[0m                        \u001b[39mnot\u001b[39;49;00m nested \u001b[39mand\u001b[39;49;00m \u001b[39mnot\u001b[39;49;00m items))\n\u001b[0;32m    <a href='file:///c%3A/ProgramData/Anaconda3/lib/sre_parse.py?line=444'>445</a>\u001b[0m     \u001b[39mif\u001b[39;00m \u001b[39mnot\u001b[39;00m sourcematch(\u001b[39m\"\u001b[39m\u001b[39m|\u001b[39m\u001b[39m\"\u001b[39m):\n\u001b[0;32m    <a href='file:///c%3A/ProgramData/Anaconda3/lib/sre_parse.py?line=445'>446</a>\u001b[0m         \u001b[39mbreak\u001b[39;00m\n",
      "File \u001b[1;32mC:\\ProgramData\\Anaconda3\\lib\\sre_parse.py:831\u001b[0m, in \u001b[0;36m_parse\u001b[1;34m(source, state, verbose, nested, first)\u001b[0m\n\u001b[0;32m    <a href='file:///c%3A/ProgramData/Anaconda3/lib/sre_parse.py?line=828'>829</a>\u001b[0m         group \u001b[39m=\u001b[39m state\u001b[39m.\u001b[39mopengroup(name)\n\u001b[0;32m    <a href='file:///c%3A/ProgramData/Anaconda3/lib/sre_parse.py?line=829'>830</a>\u001b[0m     \u001b[39mexcept\u001b[39;00m error \u001b[39mas\u001b[39;00m err:\n\u001b[1;32m--> <a href='file:///c%3A/ProgramData/Anaconda3/lib/sre_parse.py?line=830'>831</a>\u001b[0m         \u001b[39mraise\u001b[39;00m source\u001b[39m.\u001b[39merror(err\u001b[39m.\u001b[39mmsg, \u001b[39mlen\u001b[39m(name) \u001b[39m+\u001b[39m \u001b[39m1\u001b[39m) \u001b[39mfrom\u001b[39;00m \u001b[39mNone\u001b[39m\n\u001b[0;32m    <a href='file:///c%3A/ProgramData/Anaconda3/lib/sre_parse.py?line=831'>832</a>\u001b[0m sub_verbose \u001b[39m=\u001b[39m ((verbose \u001b[39mor\u001b[39;00m (add_flags \u001b[39m&\u001b[39m SRE_FLAG_VERBOSE)) \u001b[39mand\u001b[39;00m\n\u001b[0;32m    <a href='file:///c%3A/ProgramData/Anaconda3/lib/sre_parse.py?line=832'>833</a>\u001b[0m                \u001b[39mnot\u001b[39;00m (del_flags \u001b[39m&\u001b[39m SRE_FLAG_VERBOSE))\n\u001b[0;32m    <a href='file:///c%3A/ProgramData/Anaconda3/lib/sre_parse.py?line=833'>834</a>\u001b[0m p \u001b[39m=\u001b[39m _parse_sub(source, state, sub_verbose, nested \u001b[39m+\u001b[39m \u001b[39m1\u001b[39m)\n",
      "\u001b[1;31merror\u001b[0m: redefinition of group name 'd' as group 9; was group 3 at position 255"
     ]
    }
   ],
   "source": [
    "datetime.datetime.strptime(\"2020-1-3 00:01:01 1\", '%Y-%m-%d %H:%M:%S')"
   ]
  },
  {
   "cell_type": "code",
   "execution_count": 16,
   "metadata": {},
   "outputs": [
    {
     "data": {
      "text/plain": [
       "datetime.datetime(2022, 3, 7, 19, 25, 56, 332351)"
      ]
     },
     "execution_count": 16,
     "metadata": {},
     "output_type": "execute_result"
    }
   ],
   "source": [
    "datetime.datetime.now()"
   ]
  },
  {
   "cell_type": "code",
   "execution_count": 19,
   "metadata": {},
   "outputs": [
    {
     "data": {
      "text/plain": [
       "int"
      ]
     },
     "execution_count": 19,
     "metadata": {},
     "output_type": "execute_result"
    }
   ],
   "source": [
    "type(1)"
   ]
  },
  {
   "cell_type": "code",
   "execution_count": null,
   "metadata": {},
   "outputs": [],
   "source": []
  }
 ],
 "metadata": {
  "interpreter": {
   "hash": "08af87c0a970761b3332705c56141bd055f0b04fab5099a34a3ab7d66b9a8ed8"
  },
  "kernelspec": {
   "display_name": "Python 3.8.3 ('env': venv)",
   "language": "python",
   "name": "python3"
  },
  "language_info": {
   "codemirror_mode": {
    "name": "ipython",
    "version": 3
   },
   "file_extension": ".py",
   "mimetype": "text/x-python",
   "name": "python",
   "nbconvert_exporter": "python",
   "pygments_lexer": "ipython3",
   "version": "3.8.3"
  },
  "orig_nbformat": 4
 },
 "nbformat": 4,
 "nbformat_minor": 2
}
